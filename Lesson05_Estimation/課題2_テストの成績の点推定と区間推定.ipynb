{
 "cells": [
  {
   "cell_type": "code",
   "execution_count": 1,
   "id": "ce9da68a",
   "metadata": {},
   "outputs": [
    {
     "name": "stdout",
     "output_type": "stream",
     "text": [
      "母平均： 76.85333333333334\n",
      "母分散： 91.11928411633109 （標準偏差にすると約9.546点）\n",
      "標準誤差（SE）： 0.7793984180820962\n",
      "95%信頼区間の下限値と上限値： (np.float64(75.31323178854083), np.float64(78.39343487812584))\n"
     ]
    }
   ],
   "source": [
    "import pandas as pd\n",
    "import numpy as np\n",
    "from scipy.stats import t\n",
    "\n",
    "# データ読み込み\n",
    "df = pd.read_csv(\"students_scores.csv\")\n",
    "\n",
    "# english列を抽出\n",
    "x = df[\"english\"].dropna().to_numpy()\n",
    "n = len(x)\n",
    "\n",
    "# 点推定\n",
    "xbar = np.mean(x)             # 母平均の推定値（標本平均）\n",
    "s2   = np.var(x, ddof=1)      # 不偏分散\n",
    "s    = np.sqrt(s2)            # 不偏標準偏差\n",
    "SE   = s / np.sqrt(n)         # 標準誤差\n",
    "\n",
    "# 95%信頼区間\n",
    "t_crit = t.ppf(0.975, df=n-1)\n",
    "ci_low, ci_high = xbar - t_crit*SE, xbar + t_crit*SE\n",
    "\n",
    "# 出力\n",
    "print(\"母平均：\", xbar)\n",
    "print(\"母分散：\", s2, f\"（標準偏差にすると約{s:.3f}点）\")\n",
    "print(\"標準誤差（SE）：\", SE)\n",
    "print(\"95%信頼区間の下限値と上限値：\", (ci_low, ci_high))\n"
   ]
  }
 ],
 "metadata": {
  "kernelspec": {
   "display_name": ".venv",
   "language": "python",
   "name": "python3"
  },
  "language_info": {
   "codemirror_mode": {
    "name": "ipython",
    "version": 3
   },
   "file_extension": ".py",
   "mimetype": "text/x-python",
   "name": "python",
   "nbconvert_exporter": "python",
   "pygments_lexer": "ipython3",
   "version": "3.11.9"
  }
 },
 "nbformat": 4,
 "nbformat_minor": 5
}
