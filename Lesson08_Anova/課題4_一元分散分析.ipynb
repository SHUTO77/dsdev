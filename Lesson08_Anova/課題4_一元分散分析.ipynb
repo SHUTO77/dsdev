{
 "cells": [
  {
   "cell_type": "code",
   "execution_count": 1,
   "id": "015f058c",
   "metadata": {},
   "outputs": [
    {
     "name": "stdout",
     "output_type": "stream",
     "text": [
      "     Density Line\n",
      "0  71.624345    A\n",
      "1  69.388244    A\n",
      "2  69.471828    A\n",
      "3  68.927031    A\n",
      "4  70.865408    A (50, 2)\n"
     ]
    },
    {
     "data": {
      "image/png": "[encoded data removed]",
      "text/plain": [
       "<Figure size 640x480 with 1 Axes>"
      ]
     },
     "metadata": {},
     "output_type": "display_data"
    },
    {
     "name": "stdout",
     "output_type": "stream",
     "text": [
      "各ライン平均:\n",
      " Line\n",
      "A    69.902859\n",
      "B    69.368650\n",
      "C    68.429044\n",
      "D    68.738097\n",
      "E    69.233799\n",
      "Name: Density, dtype: float64\n",
      "全体平均: 69.13448967999292\n",
      "効果SS=13.098668335875418, 誤差SS=67.4069531127807\n",
      "効果df=4, 誤差df=45\n",
      "効果MS=3.2746670839688545, 誤差MS=1.4979322913951267\n",
      "F比=2.1861249021602527, p値=0.08574964851206872\n",
      "\n",
      "ANOVA (statsmodels):\n",
      "              sum_sq    df         F   PR(>F)\n",
      "C(Line)   13.098668   4.0  2.186125  0.08575\n",
      "Residual  67.406953  45.0       NaN      NaN\n",
      "\n",
      "判定: 帰無仮説を棄却しない（差なし）\n"
     ]
    }
   ],
   "source": [
    "# 最低限必要なライブラリ\n",
    "import pandas as pd\n",
    "import numpy as np\n",
    "import matplotlib.pyplot as plt\n",
    "import seaborn as sns\n",
    "from scipy.stats import f\n",
    "import statsmodels.api as sm\n",
    "from statsmodels.formula.api import ols\n",
    "\n",
    "# 1) データ読み込み＆確認\n",
    "df = pd.read_csv(\"ethanol_data.csv\")\n",
    "print(df.head(), df.shape)\n",
    "\n",
    "# 2) 箱ひげ図（横軸：製造ライン、縦軸：濃度）\n",
    "sns.boxplot(x=\"Line\", y=\"Density\", data=df)\n",
    "plt.title(\"Density by Line\")\n",
    "plt.show()\n",
    "\n",
    "# 3) 各ライン平均＆全体平均\n",
    "group_means = df.groupby(\"Line\")[\"Density\"].mean()\n",
    "grand_mean  = df[\"Density\"].mean()\n",
    "print(\"各ライン平均:\\n\", group_means)\n",
    "print(\"全体平均:\", grand_mean)\n",
    "\n",
    "# 4) 一元分散分析の手計算（平方和・自由度・分散・F・p）\n",
    "k = df[\"Line\"].nunique()     # 群数\n",
    "N = len(df)                  # 総サンプル数\n",
    "\n",
    "SST = ((df[\"Density\"] - grand_mean) ** 2).sum()  # 全体平方和\n",
    "SSB = (df.groupby(\"Line\").size() * (group_means - grand_mean) ** 2).sum()  # 効果（群間）平方和\n",
    "SSW = SST - SSB                                   # 誤差（群内）平方和\n",
    "\n",
    "df_effect = k - 1\n",
    "df_error  = N - k\n",
    "\n",
    "MS_effect = SSB / df_effect   # 効果の分散\n",
    "MS_error  = SSW / df_error    # 誤差の分散\n",
    "\n",
    "F_stat = MS_effect / MS_error\n",
    "p_value = f.sf(F_stat, df_effect, df_error)\n",
    "\n",
    "print(f\"効果SS={SSB}, 誤差SS={SSW}\")\n",
    "print(f\"効果df={df_effect}, 誤差df={df_error}\")\n",
    "print(f\"効果MS={MS_effect}, 誤差MS={MS_error}\")\n",
    "print(f\"F比={F_stat}, p値={p_value}\")\n",
    "\n",
    "# 5) statsmodels で一元分散分析（検算）\n",
    "model = ols(\"Density ~ C(Line)\", data=df).fit()\n",
    "anova_tbl = sm.stats.anova_lm(model, typ=2)  # typ=2で十分\n",
    "print(\"\\nANOVA (statsmodels):\\n\", anova_tbl)\n",
    "\n",
    "# 6) 判定（有意水準5%）\n",
    "alpha = 0.05\n",
    "print(\"\\n判定:\", \"帰無仮説を棄却（差あり）\" if p_value < alpha else \"帰無仮説を棄却しない（差なし）\")\n"
   ]
  }
 ],
 "metadata": {
  "kernelspec": {
   "display_name": ".venv",
   "language": "python",
   "name": "python3"
  },
  "language_info": {
   "codemirror_mode": {
    "name": "ipython",
    "version": 3
   },
   "file_extension": ".py",
   "mimetype": "text/x-python",
   "name": "python",
   "nbconvert_exporter": "python",
   "pygments_lexer": "ipython3",
   "version": "3.11.9"
  }
 },
 "nbformat": 4,
 "nbformat_minor": 5
}
